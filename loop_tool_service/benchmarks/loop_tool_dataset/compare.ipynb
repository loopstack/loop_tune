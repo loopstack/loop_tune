{
 "cells": [
  {
   "cell_type": "code",
   "execution_count": 1,
   "metadata": {},
   "outputs": [],
   "source": [
    "from os import listdir\n",
    "from os.path import isfile, join\n",
    "\n",
    "import loop_tool as lt\n",
    "import numpy as np\n",
    "from matplotlib import pyplot as plt\n",
    "\n",
    "from tqdm import tqdm\n",
    "# import time\n",
    "from IPython import display\n",
    "from ipywidgets import Output\n",
    "\n",
    "\n",
    "import torch\n",
    "import torch.nn as nn\n",
    "import torch.nn.functional as F\n",
    "from torch.autograd import Variable\n",
    "from torch.utils.data import DataLoader, Dataset\n",
    "\n",
    "import pdb\n",
    "device = 'cpu'"
   ]
  },
  {
   "cell_type": "code",
   "execution_count": 2,
   "metadata": {},
   "outputs": [],
   "source": [
    "def get_stride_tensor(stride_freq_pairs):\n",
    "    bucket_num = 32\n",
    "    stride_freq_vector = [0] * bucket_num\n",
    "    total_freq = sum([ x[1] for x in stride_freq_pairs] )\n",
    "    for stride, freq in stride_freq_pairs:\n",
    "        bucket_id = int(np.log2(stride))\n",
    "        stride_freq_vector[bucket_id] += freq/total_freq # Normalize freq\n",
    "\n",
    "    return torch.tensor(stride_freq_vector)\n"
   ]
  },
  {
   "cell_type": "code",
   "execution_count": 3,
   "metadata": {},
   "outputs": [],
   "source": [
    "class LoopToolDataset(Dataset):\n",
    "    def __init__(\n",
    "        self,\n",
    "        data_path,\n",
    "    ):\n",
    "        self.data_path = data_path\n",
    "        self.data = []\n",
    "        self.process()\n",
    "\n",
    "    def process(self):\n",
    "        file_paths = [join(self.data_path, f) for f in listdir(self.data_path)]\n",
    "\n",
    "        for file_path in file_paths:\n",
    "            with open(file_path) as file:\n",
    "                file_lines = file.readlines()\n",
    "                ir = lt.deserialize(''.join(file_lines[:-1]))\n",
    "                tree = lt.LoopTree(ir)\n",
    "                tensor = get_stride_tensor(tree.ir.get_stride_frequency())\n",
    "                flops = float(file_lines[-1])\n",
    "                self.data.append([tensor, flops])\n",
    "    \n",
    "\n",
    "    def __getitem__(self, i):\n",
    "        result = float(self.data[i][1] > self.data[i+1][1])\n",
    "        return self.data[i][0] - self.data[i+1][0], torch.tensor([result, not result])\n",
    "\n",
    "\n",
    "    def __len__(self):    \n",
    "        return len(self.data) - 1"
   ]
  },
  {
   "cell_type": "code",
   "execution_count": 4,
   "metadata": {},
   "outputs": [],
   "source": [
    "loop_tool_dataset = LoopToolDataset(data_path='small')"
   ]
  },
  {
   "cell_type": "code",
   "execution_count": 5,
   "metadata": {},
   "outputs": [
    {
     "name": "stdout",
     "output_type": "stream",
     "text": [
      "Dataset training validation = 800, 199\n"
     ]
    }
   ],
   "source": [
    "test_size = len(loop_tool_dataset) // 5\n",
    "train_size = len(loop_tool_dataset) - test_size\n",
    "\n",
    "print(f'Dataset training validation = {train_size}, {test_size}')\n",
    "train_set, test_set = torch.utils.data.random_split(loop_tool_dataset, [train_size, test_size])\n",
    "\n",
    "batch_size = 10\n",
    "trainLoad = DataLoader(train_set,batch_size=batch_size,shuffle=True)\n",
    "testLoad = DataLoader(test_set,batch_size=batch_size,shuffle=True)"
   ]
  },
  {
   "cell_type": "code",
   "execution_count": 6,
   "metadata": {},
   "outputs": [],
   "source": [
    "class SmallNet(nn.Module):\n",
    "    def __init__(self, in_size, out_size, hidden_size, dropout=0):\n",
    "        super(SmallNet,self).__init__()\n",
    "        self.l1 = nn.Linear(in_size,hidden_size)\n",
    "        self.l2 = nn.Linear(hidden_size,hidden_size)\n",
    "        self.l3 = nn.Linear(hidden_size,hidden_size)\n",
    "\n",
    "        self.l7 = nn.Linear(hidden_size,out_size)\n",
    "        # self.softmax = nn.Softmax(dim=1)\n",
    "        # self.dropout = nn.Dropout(dropout)\n",
    "        self.sigmoid = nn.Sigmoid()\n",
    "        self.softmax = nn.Softmax()\n",
    "\n",
    "    def forward(self,x):\n",
    "        x = self.sigmoid(self.l1(x))\n",
    "        x = self.sigmoid(self.l2(x))\n",
    "        x = self.sigmoid(self.l3(x))\n",
    "        x = self.l7(x)\n",
    "        # x = self.softmax(x)\n",
    "        return x.softmax(dim=1)"
   ]
  },
  {
   "cell_type": "code",
   "execution_count": 7,
   "metadata": {},
   "outputs": [],
   "source": [
    "model_path = \"model_weights.pt\"\n",
    "model = SmallNet(in_size=32, out_size=2, hidden_size=64).to(device)\n",
    "optimizer = torch.optim.Adam(model.parameters(), lr=0.1)\n",
    "criterion = nn.CrossEntropyLoss()\n",
    "\n"
   ]
  },
  {
   "cell_type": "code",
   "execution_count": 8,
   "metadata": {},
   "outputs": [
    {
     "data": {
      "image/png": "[encoded data removed]",
      "text/plain": [
       "<Figure size 432x288 with 1 Axes>"
      ]
     },
     "metadata": {
      "needs_background": "light"
     },
     "output_type": "display_data"
    },
    {
     "name": "stderr",
     "output_type": "stream",
     "text": [
      "100%|██████████| 100/100 [01:39<00:00,  1.00it/s]\n"
     ]
    }
   ],
   "source": [
    "train_losses = []\n",
    "test_losses = []\n",
    "num_epochs = 100\n",
    "test_every = 10\n",
    "\n",
    "out = Output()\n",
    "display.display(out)\n",
    "\n",
    "for epoch in tqdm(range(num_epochs)):\n",
    "    model.train()\n",
    "    \n",
    "    for state, cost in trainLoad:\n",
    "        train_losses_batch = []\n",
    "\n",
    "        # for state, cost in zip(state, cost):\n",
    "        \n",
    "        pred_cost = model(state)\n",
    "        # print(pred_cost)\n",
    "        # print(cost)\n",
    "        train_loss = criterion(pred_cost, cost)\n",
    "        train_losses_batch.append(train_loss.item())\n",
    "\n",
    "        optimizer.zero_grad()\n",
    "        train_loss.backward()\n",
    "        optimizer.step()\n",
    "            \n",
    "\n",
    "        if epoch % test_every == 0:\n",
    "            with torch.no_grad():\n",
    "                model.eval()\n",
    "                test_losses_batch = []\n",
    "                for state, cost in testLoad:\n",
    "                    # for state, cost in zip(state, cost):\n",
    "\n",
    "                    pred_cost = model(state)\n",
    "                    test_loss = criterion(pred_cost, cost)\n",
    "                    test_losses_batch.append(test_loss.item())\n",
    "\n",
    "                train_losses.append(np.mean(train_losses_batch))\n",
    "                test_losses.append(np.mean(test_losses_batch))\n",
    "            # torch.save(model.state_dict(), model_path)\n",
    "\n",
    "            with out:\n",
    "                display.clear_output(wait=True)\n",
    "                plt.title('Loss (blue-train, red-test)')\n",
    "                plt.plot(train_losses, color='blue')\n",
    "                plt.plot(test_losses, color='red')\n",
    "\n",
    "                plt.tight_layout()\n",
    "                plt.show()\n",
    "\n",
    "\n",
    "    \n",
    "    \n"
   ]
  },
  {
   "cell_type": "code",
   "execution_count": null,
   "metadata": {},
   "outputs": [],
   "source": []
  },
  {
   "cell_type": "code",
   "execution_count": null,
   "metadata": {},
   "outputs": [],
   "source": []
  }
 ],
 "metadata": {
  "interpreter": {
   "hash": "e804d18dc74ce1dc9e76e68b7cf0aefb2bc0afdfbb2c1892ec3bac3a66589459"
  },
  "kernelspec": {
   "display_name": "Python 3.8.13 ('compiler_gym')",
   "language": "python",
   "name": "python3"
  },
  "language_info": {
   "codemirror_mode": {
    "name": "ipython",
    "version": 3
   },
   "file_extension": ".py",
   "mimetype": "text/x-python",
   "name": "python",
   "nbconvert_exporter": "python",
   "pygments_lexer": "ipython3",
   "version": "3.8.13"
  },
  "orig_nbformat": 4
 },
 "nbformat": 4,
 "nbformat_minor": 2
}
