{
 "cells": [
  {
   "cell_type": "code",
   "execution_count": 1,
   "metadata": {},
   "outputs": [],
   "source": [
    "from os import listdir\n",
    "from os.path import isfile, join\n",
    "\n",
    "import loop_tool as lt\n",
    "import numpy as np\n",
    "import pandas as pd\n",
    "from matplotlib import pyplot as plt\n",
    "\n",
    "from tqdm import tqdm\n",
    "# import time\n",
    "from IPython import display\n",
    "from ipywidgets import Output\n",
    "\n",
    "\n",
    "import torch\n",
    "import torch.nn as nn\n",
    "import torch.nn.functional as F\n",
    "from torch.autograd import Variable\n",
    "from torch.utils.data import DataLoader, Dataset\n",
    "\n",
    "import pdb\n",
    "device = 'cpu'"
   ]
  },
  {
   "cell_type": "code",
   "execution_count": 2,
   "metadata": {},
   "outputs": [
    {
     "data": {
      "text/html": [
       "<div>\n",
       "<style scoped>\n",
       "    .dataframe tbody tr th:only-of-type {\n",
       "        vertical-align: middle;\n",
       "    }\n",
       "\n",
       "    .dataframe tbody tr th {\n",
       "        vertical-align: top;\n",
       "    }\n",
       "\n",
       "    .dataframe thead th {\n",
       "        text-align: right;\n",
       "    }\n",
       "</style>\n",
       "<table border=\"1\" class=\"dataframe\">\n",
       "  <thead>\n",
       "    <tr style=\"text-align: right;\">\n",
       "      <th></th>\n",
       "      <th>ir</th>\n",
       "      <th>loops_tensor</th>\n",
       "      <th>program_tensor</th>\n",
       "      <th>gflops</th>\n",
       "    </tr>\n",
       "  </thead>\n",
       "  <tbody>\n",
       "    <tr>\n",
       "      <th>0</th>\n",
       "      <td>v:m_6543\\nv:k_6545\\nv:n_6544\\nn:2::0,1,:::0:::...</td>\n",
       "      <td>[[tensor(1), tensor(0), tensor(1), tensor(1), ...</td>\n",
       "      <td>[tensor(14196.), tensor(0.), tensor(0.), tenso...</td>\n",
       "      <td>32.809471</td>\n",
       "    </tr>\n",
       "    <tr>\n",
       "      <th>1</th>\n",
       "      <td>v:m_6543\\nv:k_6545\\nv:n_6544\\nn:2::0,1,:::0:::...</td>\n",
       "      <td>[[tensor(1), tensor(0), tensor(1), tensor(0), ...</td>\n",
       "      <td>[tensor(14196.), tensor(0.), tensor(0.), tenso...</td>\n",
       "      <td>42.649964</td>\n",
       "    </tr>\n",
       "    <tr>\n",
       "      <th>2</th>\n",
       "      <td>v:m_6543\\nv:k_6545\\nv:n_6544\\nn:2::0,1,:::0:::...</td>\n",
       "      <td>[[tensor(1), tensor(0), tensor(1), tensor(0), ...</td>\n",
       "      <td>[tensor(14196.), tensor(0.), tensor(0.), tenso...</td>\n",
       "      <td>32.809471</td>\n",
       "    </tr>\n",
       "    <tr>\n",
       "      <th>3</th>\n",
       "      <td>v:m_6543\\nv:k_6545\\nv:n_6544\\nn:2::0,1,:::0:::...</td>\n",
       "      <td>[[tensor(1), tensor(0), tensor(1), tensor(0), ...</td>\n",
       "      <td>[tensor(14196.), tensor(0.), tensor(0.), tenso...</td>\n",
       "      <td>32.827548</td>\n",
       "    </tr>\n",
       "    <tr>\n",
       "      <th>4</th>\n",
       "      <td>v:m_6543\\nv:k_6545\\nv:n_6544\\nn:2::0,1,:::0:::...</td>\n",
       "      <td>[[tensor(1), tensor(0), tensor(1), tensor(0), ...</td>\n",
       "      <td>[tensor(14196.), tensor(0.), tensor(0.), tenso...</td>\n",
       "      <td>60.92229</td>\n",
       "    </tr>\n",
       "  </tbody>\n",
       "</table>\n",
       "</div>"
      ],
      "text/plain": [
       "                                                  ir  \\\n",
       "0  v:m_6543\\nv:k_6545\\nv:n_6544\\nn:2::0,1,:::0:::...   \n",
       "1  v:m_6543\\nv:k_6545\\nv:n_6544\\nn:2::0,1,:::0:::...   \n",
       "2  v:m_6543\\nv:k_6545\\nv:n_6544\\nn:2::0,1,:::0:::...   \n",
       "3  v:m_6543\\nv:k_6545\\nv:n_6544\\nn:2::0,1,:::0:::...   \n",
       "4  v:m_6543\\nv:k_6545\\nv:n_6544\\nn:2::0,1,:::0:::...   \n",
       "\n",
       "                                        loops_tensor  \\\n",
       "0  [[tensor(1), tensor(0), tensor(1), tensor(1), ...   \n",
       "1  [[tensor(1), tensor(0), tensor(1), tensor(0), ...   \n",
       "2  [[tensor(1), tensor(0), tensor(1), tensor(0), ...   \n",
       "3  [[tensor(1), tensor(0), tensor(1), tensor(0), ...   \n",
       "4  [[tensor(1), tensor(0), tensor(1), tensor(0), ...   \n",
       "\n",
       "                                      program_tensor     gflops  \n",
       "0  [tensor(14196.), tensor(0.), tensor(0.), tenso...  32.809471  \n",
       "1  [tensor(14196.), tensor(0.), tensor(0.), tenso...  42.649964  \n",
       "2  [tensor(14196.), tensor(0.), tensor(0.), tenso...  32.809471  \n",
       "3  [tensor(14196.), tensor(0.), tensor(0.), tenso...  32.827548  \n",
       "4  [tensor(14196.), tensor(0.), tensor(0.), tenso...   60.92229  "
      ]
     },
     "execution_count": 2,
     "metadata": {},
     "output_type": "execute_result"
    }
   ],
   "source": [
    "df = pd.read_pickle(\"datasets/tensor_dataset.pkl\") \n",
    "df.head()"
   ]
  },
  {
   "cell_type": "code",
   "execution_count": 3,
   "metadata": {},
   "outputs": [],
   "source": [
    "class LoopToolDataset(Dataset):\n",
    "    def __init__(\n",
    "        self,\n",
    "        df,\n",
    "    ):\n",
    "        self.df = df\n",
    "\n",
    "    def __getitem__(self, i):\n",
    "        return torch.flatten(self.df['program_tensor'].iloc[0].float()).to(device), torch.tensor(self.df['gflops'].iloc[i]).float().to(device)\n",
    "\n",
    "    def __len__(self):    \n",
    "        return len(self.df)"
   ]
  },
  {
   "cell_type": "code",
   "execution_count": 4,
   "metadata": {},
   "outputs": [],
   "source": [
    "loop_tool_dataset = LoopToolDataset(df=df)"
   ]
  },
  {
   "cell_type": "code",
   "execution_count": 5,
   "metadata": {},
   "outputs": [
    {
     "name": "stdout",
     "output_type": "stream",
     "text": [
      "Dataset training validation = 15840, 3960\n"
     ]
    }
   ],
   "source": [
    "test_size = len(loop_tool_dataset.df) // 5\n",
    "train_size = len(loop_tool_dataset.df) - test_size\n",
    "\n",
    "print(f'Dataset training validation = {train_size}, {test_size}')\n",
    "train_set, test_set = torch.utils.data.random_split(loop_tool_dataset, [train_size, test_size])\n",
    "\n",
    "batch_size = 10\n",
    "trainLoad = DataLoader(train_set,batch_size=batch_size,shuffle=True)\n",
    "testLoad = DataLoader(test_set,batch_size=batch_size,shuffle=True)"
   ]
  },
  {
   "cell_type": "code",
   "execution_count": 6,
   "metadata": {},
   "outputs": [],
   "source": [
    "class SmallNet(nn.Module):\n",
    "    def __init__(self, in_size, out_size, hidden_size, dropout=0):\n",
    "        super(SmallNet,self).__init__()\n",
    "        self.l1 = nn.Linear(in_size,hidden_size)\n",
    "        self.l2 = nn.Linear(hidden_size,hidden_size)\n",
    "        self.l3 = nn.Linear(hidden_size,hidden_size)\n",
    "        self.l7 = nn.Linear(hidden_size,out_size)\n",
    "        # self.softmax = nn.Softmax(dim=1)\n",
    "        # self.dropout = nn.Dropout(dropout)\n",
    "\n",
    "    def forward(self,x):\n",
    "        x = F.leaky_relu(self.l1(x))\n",
    "        x = F.leaky_relu(self.l2(x))\n",
    "        x = F.leaky_relu(self.l3(x))\n",
    "        x = self.l7(x)\n",
    "        return x"
   ]
  },
  {
   "cell_type": "code",
   "execution_count": 7,
   "metadata": {},
   "outputs": [
    {
     "data": {
      "text/plain": [
       "SmallNet(\n",
       "  (l1): Linear(in_features=32, out_features=516, bias=True)\n",
       "  (l2): Linear(in_features=516, out_features=516, bias=True)\n",
       "  (l3): Linear(in_features=516, out_features=516, bias=True)\n",
       "  (l7): Linear(in_features=516, out_features=1, bias=True)\n",
       ")"
      ]
     },
     "execution_count": 7,
     "metadata": {},
     "output_type": "execute_result"
    }
   ],
   "source": [
    "model_path = \"model_weights.pt\"\n",
    "model = SmallNet(in_size=len(torch.flatten(df['program_tensor'].iloc[0])), out_size=1, hidden_size=516).to(device)\n",
    "optimizer = torch.optim.Adam(model.parameters(), lr=0.1)\n",
    "criterion = nn.MSELoss()\n",
    "\n",
    "model"
   ]
  },
  {
   "cell_type": "code",
   "execution_count": 8,
   "metadata": {},
   "outputs": [
    {
     "data": {
      "image/png": "[encoded data removed]",
      "text/plain": [
       "<Figure size 432x288 with 1 Axes>"
      ]
     },
     "metadata": {
      "needs_background": "light"
     },
     "output_type": "display_data"
    },
    {
     "name": "stderr",
     "output_type": "stream",
     "text": [
      "  0%|          | 0/1000 [18:33<?, ?it/s]\n"
     ]
    }
   ],
   "source": [
    "train_losses = []\n",
    "test_losses = []\n",
    "num_epochs = 1000\n",
    "test_every = 10\n",
    "\n",
    "out = Output()\n",
    "display.display(out)\n",
    "\n",
    "model.train()\n",
    "\n",
    "for epoch in tqdm(range(num_epochs)):    \n",
    "    for state, cost in trainLoad:\n",
    "        train_losses_batch = []\n",
    "        \n",
    "        for state, cost in zip(state, cost):\n",
    "            # print(state)\n",
    "            # break\n",
    "            pred_cost = model(state)[0]\n",
    "            train_loss = criterion(pred_cost, cost)\n",
    "            train_losses_batch.append(train_loss.item())\n",
    "\n",
    "            optimizer.zero_grad()\n",
    "            train_loss.backward()\n",
    "            optimizer.step()\n",
    "            \n",
    "\n",
    "        if epoch % test_every == 0:\n",
    "            with torch.no_grad():\n",
    "                model.eval()\n",
    "                test_losses_batch = []\n",
    "                for state, cost in testLoad:\n",
    "                    for state, cost in zip(state, cost):\n",
    "\n",
    "                        pred_cost = model(state)[0]\n",
    "                        test_loss = criterion(pred_cost, cost )\n",
    "                        test_losses_batch.append(test_loss.item())\n",
    "\n",
    "            train_losses.append(np.mean(train_losses_batch))\n",
    "            test_losses.append(np.mean(test_losses_batch))\n",
    "            # torch.save(model.state_dict(), model_path)\n",
    "\n",
    "            with out:\n",
    "                display.clear_output(wait=True)\n",
    "                plt.title('Loss (blue-train, red-test)')\n",
    "                plt.plot(train_losses, color='blue')\n",
    "                plt.plot(test_losses, color='red')\n",
    "\n",
    "                plt.tight_layout()\n",
    "                plt.show()\n",
    "\n",
    "    break\n",
    "    \n",
    "    \n"
   ]
  },
  {
   "cell_type": "code",
   "execution_count": 9,
   "metadata": {},
   "outputs": [],
   "source": [
    "plt.show()"
   ]
  },
  {
   "cell_type": "code",
   "execution_count": 11,
   "metadata": {},
   "outputs": [
    {
     "data": {
      "text/plain": [
       "SmallNet(\n",
       "  (l1): Linear(in_features=32, out_features=516, bias=True)\n",
       "  (l2): Linear(in_features=516, out_features=516, bias=True)\n",
       "  (l3): Linear(in_features=516, out_features=516, bias=True)\n",
       "  (l7): Linear(in_features=516, out_features=1, bias=True)\n",
       ")"
      ]
     },
     "execution_count": 11,
     "metadata": {},
     "output_type": "execute_result"
    }
   ],
   "source": [
    "model.eval()"
   ]
  },
  {
   "cell_type": "code",
   "execution_count": 12,
   "metadata": {},
   "outputs": [
    {
     "data": {
      "text/html": [
       "<div>\n",
       "<style scoped>\n",
       "    .dataframe tbody tr th:only-of-type {\n",
       "        vertical-align: middle;\n",
       "    }\n",
       "\n",
       "    .dataframe tbody tr th {\n",
       "        vertical-align: top;\n",
       "    }\n",
       "\n",
       "    .dataframe thead th {\n",
       "        text-align: right;\n",
       "    }\n",
       "</style>\n",
       "<table border=\"1\" class=\"dataframe\">\n",
       "  <thead>\n",
       "    <tr style=\"text-align: right;\">\n",
       "      <th></th>\n",
       "      <th>ir</th>\n",
       "      <th>loops_tensor</th>\n",
       "      <th>program_tensor</th>\n",
       "      <th>gflops</th>\n",
       "    </tr>\n",
       "  </thead>\n",
       "  <tbody>\n",
       "    <tr>\n",
       "      <th>0</th>\n",
       "      <td>v:m_6543\\nv:k_6545\\nv:n_6544\\nn:2::0,1,:::0:::...</td>\n",
       "      <td>[[tensor(1), tensor(0), tensor(1), tensor(1), ...</td>\n",
       "      <td>[tensor(14196.), tensor(0.), tensor(0.), tenso...</td>\n",
       "      <td>32.809471</td>\n",
       "    </tr>\n",
       "    <tr>\n",
       "      <th>1</th>\n",
       "      <td>v:m_6543\\nv:k_6545\\nv:n_6544\\nn:2::0,1,:::0:::...</td>\n",
       "      <td>[[tensor(1), tensor(0), tensor(1), tensor(0), ...</td>\n",
       "      <td>[tensor(14196.), tensor(0.), tensor(0.), tenso...</td>\n",
       "      <td>42.649964</td>\n",
       "    </tr>\n",
       "    <tr>\n",
       "      <th>2</th>\n",
       "      <td>v:m_6543\\nv:k_6545\\nv:n_6544\\nn:2::0,1,:::0:::...</td>\n",
       "      <td>[[tensor(1), tensor(0), tensor(1), tensor(0), ...</td>\n",
       "      <td>[tensor(14196.), tensor(0.), tensor(0.), tenso...</td>\n",
       "      <td>32.809471</td>\n",
       "    </tr>\n",
       "    <tr>\n",
       "      <th>3</th>\n",
       "      <td>v:m_6543\\nv:k_6545\\nv:n_6544\\nn:2::0,1,:::0:::...</td>\n",
       "      <td>[[tensor(1), tensor(0), tensor(1), tensor(0), ...</td>\n",
       "      <td>[tensor(14196.), tensor(0.), tensor(0.), tenso...</td>\n",
       "      <td>32.827548</td>\n",
       "    </tr>\n",
       "    <tr>\n",
       "      <th>4</th>\n",
       "      <td>v:m_6543\\nv:k_6545\\nv:n_6544\\nn:2::0,1,:::0:::...</td>\n",
       "      <td>[[tensor(1), tensor(0), tensor(1), tensor(0), ...</td>\n",
       "      <td>[tensor(14196.), tensor(0.), tensor(0.), tenso...</td>\n",
       "      <td>60.92229</td>\n",
       "    </tr>\n",
       "  </tbody>\n",
       "</table>\n",
       "</div>"
      ],
      "text/plain": [
       "                                                  ir  \\\n",
       "0  v:m_6543\\nv:k_6545\\nv:n_6544\\nn:2::0,1,:::0:::...   \n",
       "1  v:m_6543\\nv:k_6545\\nv:n_6544\\nn:2::0,1,:::0:::...   \n",
       "2  v:m_6543\\nv:k_6545\\nv:n_6544\\nn:2::0,1,:::0:::...   \n",
       "3  v:m_6543\\nv:k_6545\\nv:n_6544\\nn:2::0,1,:::0:::...   \n",
       "4  v:m_6543\\nv:k_6545\\nv:n_6544\\nn:2::0,1,:::0:::...   \n",
       "\n",
       "                                        loops_tensor  \\\n",
       "0  [[tensor(1), tensor(0), tensor(1), tensor(1), ...   \n",
       "1  [[tensor(1), tensor(0), tensor(1), tensor(0), ...   \n",
       "2  [[tensor(1), tensor(0), tensor(1), tensor(0), ...   \n",
       "3  [[tensor(1), tensor(0), tensor(1), tensor(0), ...   \n",
       "4  [[tensor(1), tensor(0), tensor(1), tensor(0), ...   \n",
       "\n",
       "                                      program_tensor     gflops  \n",
       "0  [tensor(14196.), tensor(0.), tensor(0.), tenso...  32.809471  \n",
       "1  [tensor(14196.), tensor(0.), tensor(0.), tenso...  42.649964  \n",
       "2  [tensor(14196.), tensor(0.), tensor(0.), tenso...  32.809471  \n",
       "3  [tensor(14196.), tensor(0.), tensor(0.), tenso...  32.827548  \n",
       "4  [tensor(14196.), tensor(0.), tensor(0.), tenso...   60.92229  "
      ]
     },
     "execution_count": 12,
     "metadata": {},
     "output_type": "execute_result"
    }
   ],
   "source": [
    "df.head()"
   ]
  },
  {
   "cell_type": "code",
   "execution_count": 15,
   "metadata": {},
   "outputs": [
    {
     "name": "stdout",
     "output_type": "stream",
     "text": [
      "predicted = 699406.5, label = 32.809471365638764\n",
      "predicted = 699406.5, label = 42.64996420901933\n",
      "predicted = 699406.5, label = 32.809471365638764\n",
      "predicted = 699406.5, label = 32.82754820936639\n",
      "predicted = 699406.5, label = 60.922290388548056\n",
      "predicted = -463665.53125, label = 60.922290388548056\n",
      "predicted = -463665.53125, label = 32.809471365638764\n",
      "predicted = -463665.53125, label = 32.82754820936639\n",
      "predicted = -463665.53125, label = 60.922290388548056\n",
      "predicted = -463665.53125, label = 32.809471365638764\n"
     ]
    }
   ],
   "source": [
    "for i in range(10):\n",
    "    print(f'predicted = {model(df[\"program_tensor\"].iloc[i].float())[0]}, label = {df[\"gflops\"].iloc[i]}')"
   ]
  },
  {
   "cell_type": "code",
   "execution_count": null,
   "metadata": {},
   "outputs": [],
   "source": []
  }
 ],
 "metadata": {
  "interpreter": {
   "hash": "e804d18dc74ce1dc9e76e68b7cf0aefb2bc0afdfbb2c1892ec3bac3a66589459"
  },
  "kernelspec": {
   "display_name": "Python 3.8.13 ('compiler_gym')",
   "language": "python",
   "name": "python3"
  },
  "language_info": {
   "codemirror_mode": {
    "name": "ipython",
    "version": 3
   },
   "file_extension": ".py",
   "mimetype": "text/x-python",
   "name": "python",
   "nbconvert_exporter": "python",
   "pygments_lexer": "ipython3",
   "version": "3.8.13"
  },
  "orig_nbformat": 4
 },
 "nbformat": 4,
 "nbformat_minor": 2
}
